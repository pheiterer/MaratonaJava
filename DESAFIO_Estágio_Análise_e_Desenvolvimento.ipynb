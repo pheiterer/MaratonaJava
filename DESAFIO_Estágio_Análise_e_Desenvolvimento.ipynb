{
  "nbformat": 4,
  "nbformat_minor": 0,
  "metadata": {
    "colab": {
      "provenance": [],
      "authorship_tag": "ABX9TyOh7tXQJLQyAAe5TXzuxcGH",
      "include_colab_link": true
    },
    "kernelspec": {
      "name": "python3",
      "display_name": "Python 3"
    },
    "language_info": {
      "name": "python"
    }
  },
  "cells": [
    {
      "cell_type": "markdown",
      "metadata": {
        "id": "view-in-github",
        "colab_type": "text"
      },
      "source": [
        "<a href=\"https://colab.research.google.com/github/RydelMorgan/MaratonaJava/blob/main/DESAFIO_Est%C3%A1gio_An%C3%A1lise_e_Desenvolvimento.ipynb\" target=\"_parent\"><img src=\"https://colab.research.google.com/assets/colab-badge.svg\" alt=\"Open In Colab\"/></a>"
      ]
    },
    {
      "cell_type": "markdown",
      "source": [
        "# **DESAFIO Estágio Análise e Desenvolvimento**\n",
        "\n",
        "### ***Candidato Paulo Henrique dos Santos Eiterer***\n",
        "\n",
        "1) Observe o trecho de código abaixo:\n",
        "\n",
        "\n",
        "```\n",
        "int INDICE = 13, SOMA = 0, K = 0;\n",
        "\n",
        "enquanto K < INDICE faça\n",
        "\n",
        "{\n",
        "\n",
        "K = K + 1;\n",
        "\n",
        "SOMA = SOMA + K;\n",
        "\n",
        "}\n",
        "\n",
        "imprimir(SOMA);\n",
        "```\n",
        "\n",
        "\n",
        "Ao final do processamento, qual será o valor da variável `SOMA`?\n"
      ],
      "metadata": {
        "id": "vlPZbXQTV_XW"
      }
    },
    {
      "cell_type": "code",
      "source": [
        "INDICE = 13\n",
        "SOMA = 0\n",
        "K = 0;\n",
        "\n",
        "while K < INDICE:\n",
        "  K = K + 1;\n",
        "  SOMA = SOMA + K;\n",
        "\n",
        "SOMA"
      ],
      "metadata": {
        "id": "RJx0xgJShgjM",
        "colab": {
          "base_uri": "https://localhost:8080/"
        },
        "outputId": "4f1a4862-f018-4e22-f3be-97b0223da3a3"
      },
      "execution_count": 2,
      "outputs": [
        {
          "output_type": "execute_result",
          "data": {
            "text/plain": [
              "91"
            ]
          },
          "metadata": {},
          "execution_count": 2
        }
      ]
    },
    {
      "cell_type": "markdown",
      "source": [
        "2) Dado a sequência de *Fibonacci*, onde se inicia por 0 e 1 e o próximo valor sempre será a soma dos 2 valores anteriores (exemplo: 0, 1, 1, 2, 3, 5, 8, 13, 21, 34...), escreva um programa na linguagem que desejar onde, informado um número, ele calcule a sequência de *Fibonacci* e retorne uma mensagem avisando se o número informado pertence ou não a sequência.\n",
        "\n",
        "**IMPORTANTE**: Esse número pode ser informado através de qualquer entrada de sua preferência ou pode ser previamente definido no código;\n"
      ],
      "metadata": {
        "id": "do2r5WMPXdzi"
      }
    },
    {
      "cell_type": "markdown",
      "source": [],
      "metadata": {
        "id": "m5MzpqJ4bJ_h"
      }
    },
    {
      "cell_type": "code",
      "source": [
        "num = int(input(\"Digite um número: \"))\n",
        "\n",
        "x1 = 0\n",
        "x2 = 1\n",
        "\n",
        "while x2 < num:\n",
        "    fib = x1 + x2\n",
        "    x1 = x2\n",
        "    x2 = fib\n",
        "    \n",
        "if x2 == num:\n",
        "    print(num, \"O número digitado pertence à sequência de Fibonacci.\")\n",
        "else:\n",
        "    print(num, \"O número digitado não pertence à sequência de Fibonacci.\")"
      ],
      "metadata": {
        "colab": {
          "base_uri": "https://localhost:8080/"
        },
        "id": "_zHCsp_9X-4r",
        "outputId": "d57c8417-1022-46b5-9b36-8356baa98cf8"
      },
      "execution_count": 7,
      "outputs": [
        {
          "output_type": "stream",
          "name": "stdout",
          "text": [
            "Digite um número: 55\n",
            "55 O número digitado pertence à sequência de Fibonacci.\n"
          ]
        }
      ]
    },
    {
      "cell_type": "markdown",
      "source": [
        "3) Descubra a lógica e complete o próximo elemento:\n",
        "\n",
        "a) 1, 3, 5, 7, ___\n",
        "\n",
        "b) 2, 4, 8, 16, 32, 64, ____\n",
        "\n",
        "c) 0, 1, 4, 9, 16, 25, 36, ____\n",
        "\n",
        "d) 4, 16, 36, 64, ____\n",
        "\n",
        "e) 1, 1, 2, 3, 5, 8, ____\n",
        "\n",
        "f) 2,10, 12, 16, 17, 18, 19, ____"
      ],
      "metadata": {
        "id": "_A21VT7ga8_j"
      }
    },
    {
      "cell_type": "code",
      "source": [
        "# Letra a)\n",
        "a = [1, 3, 5, 7]\n",
        "a.append(a[-1] + 2)\n",
        "print(\"a)\", a)\n",
        "\n",
        "# Sequência b\n",
        "b = [2, 4, 8, 16, 32, 64]\n",
        "b.append(b[-1] * 2)\n",
        "print(\"b)\", b)\n",
        "\n",
        "# Sequência c\n",
        "c = [0, 1, 4, 9, 16, 25, 36]\n",
        "c.append((len(c)) ** 2)\n",
        "print(\"c)\", c)\n",
        "\n",
        "# Sequência d\n",
        "d = [4, 16, 36, 64]\n",
        "d.append((int(d[-1] ** 0.5) + 1) ** 2)\n",
        "print(\"d)\", d)\n",
        "\n",
        "# Sequência e\n",
        "e = [1, 1, 2, 3, 5, 8]\n",
        "e.append(e[-1] + e[-2])\n",
        "print(\"e)\", e)\n",
        "\n",
        "# Sequência f\n",
        "f = [2, 10, 12, 16, 17, 18, 19]\n",
        "f.append(max(f) + 1)\n",
        "print(\"f)\", f)\n"
      ],
      "metadata": {
        "colab": {
          "base_uri": "https://localhost:8080/"
        },
        "id": "iLJjHBP2bC9x",
        "outputId": "f8e120d6-3ebf-4760-eb46-fa66eb76e806"
      },
      "execution_count": 16,
      "outputs": [
        {
          "output_type": "stream",
          "name": "stdout",
          "text": [
            "a) [1, 3, 5, 7, 9]\n",
            "b) [2, 4, 8, 16, 32, 64, 128]\n",
            "c) [0, 1, 4, 9, 16, 25, 36, 49]\n",
            "d) [4, 16, 36, 64, 81]\n",
            "e) [1, 1, 2, 3, 5, 8, 13]\n",
            "f) [2, 10, 12, 16, 17, 18, 19, 20]\n"
          ]
        }
      ]
    },
    {
      "cell_type": "markdown",
      "source": [
        "4 - Dois veículos (um carro e um caminhão) saem respectivamente de cidades opostas pela mesma rodovia. O carro de Ribeirão Preto em direção a Franca, a uma velocidade constante de 110 km/h e o caminhão de Franca em direção a Ribeirão Preto a uma velocidade constante de 80 km/h. Quando eles se cruzarem na rodovia, qual estará mais próximo a cidade de Ribeirão Preto?\n",
        "\n",
        "\n",
        "\n",
        "**IMPORTANTE**:\n",
        "\n",
        "a) Considerar a distância de 100km entre a cidade de Ribeirão Preto <-> Franca.\n",
        "\n",
        "b) Considerar 2 pedágios como obstáculo e que o caminhão leva 5 minutos a mais para passar em cada um deles e o carro possui tag de pedágio (Sem Parar)\n",
        "\n",
        "c) Explique como chegou no resultado."
      ],
      "metadata": {
        "id": "TJHL5PMZek05"
      }
    },
    {
      "cell_type": "markdown",
      "source": [
        "**Resposta: Quando eles se cruzarem na rodovia eles estarão na mesma distância de Riberão Preto, pois estarão no mxm local.**"
      ],
      "metadata": {
        "id": "xD4vmx4ZiH03"
      }
    },
    {
      "cell_type": "markdown",
      "source": [
        "5) Escreva um programa que inverta os caracteres de um string.\n",
        "\n",
        "**IMPORTANTE**:\n",
        "\n",
        "a) Essa string pode ser informada através de qualquer entrada de sua preferência ou pode ser previamente definida no código;\n",
        "\n",
        "b) Evite usar funções prontas, como, por exemplo, reverse;"
      ],
      "metadata": {
        "id": "jowcnV83iZns"
      }
    },
    {
      "cell_type": "code",
      "source": [
        "string = input(\"Digite uma string: \")\n",
        "inverted_string = \"\"\n",
        "\n",
        "for i in range(len(string)-1, -1, -1):\n",
        "    inverted_string += string[i]\n",
        "\n",
        "print(\"A string invertida é:\", inverted_string)\n"
      ],
      "metadata": {
        "colab": {
          "base_uri": "https://localhost:8080/"
        },
        "id": "tA_jsh2RihYc",
        "outputId": "612584c5-bf8e-48d0-fc89-e323cfb288af"
      },
      "execution_count": 17,
      "outputs": [
        {
          "output_type": "stream",
          "name": "stdout",
          "text": [
            "Digite uma string: abcd\n",
            "A string invertida é: dcba\n"
          ]
        }
      ]
    }
  ]
}